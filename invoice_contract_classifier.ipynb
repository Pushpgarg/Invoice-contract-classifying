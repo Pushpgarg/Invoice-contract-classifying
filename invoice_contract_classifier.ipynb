{
  "cells": [
    {
      "cell_type": "markdown",
      "metadata": {
        "id": "wezc5Nk-B628"
      },
      "source": [
        "# Creating the mdoel"
      ]
    },
    {
      "cell_type": "code",
      "execution_count": 2,
      "metadata": {
        "id": "nuNWDln1B5TJ"
      },
      "outputs": [],
      "source": [
        "import pandas as pd\n",
        "# import numpy as np\n",
        "import re\n",
        "import nltk\n",
        "import random"
      ]
    },
    {
      "cell_type": "code",
      "execution_count": 4,
      "metadata": {
        "id": "2RNtbShiBTrX"
      },
      "outputs": [],
      "source": [
        "dataset = pd.read_csv('documents.csv')"
      ]
    },
    {
      "cell_type": "code",
      "execution_count": 5,
      "metadata": {
        "colab": {
          "base_uri": "https://localhost:8080/"
        },
        "id": "NJmbROcUCU9U",
        "outputId": "d9657188-5394-4747-d740-2fe8e265a937"
      },
      "outputs": [
        {
          "name": "stderr",
          "output_type": "stream",
          "text": [
            "[nltk_data] Downloading package stopwords to\n",
            "[nltk_data]     /Users/pushpgarg/nltk_data...\n",
            "[nltk_data]   Package stopwords is already up-to-date!\n",
            "[nltk_data] Downloading package wordnet to\n",
            "[nltk_data]     /Users/pushpgarg/nltk_data...\n",
            "[nltk_data]   Package wordnet is already up-to-date!\n",
            "[nltk_data] Downloading package omw-1.4 to\n",
            "[nltk_data]     /Users/pushpgarg/nltk_data...\n",
            "[nltk_data]   Package omw-1.4 is already up-to-date!\n"
          ]
        }
      ],
      "source": [
        "import nltk\n",
        "import re\n",
        "from nltk.corpus import stopwords\n",
        "from nltk.stem import WordNetLemmatizer\n",
        "\n",
        "# Download necessary NLTK data files\n",
        "nltk.download('stopwords')\n",
        "nltk.download('wordnet')\n",
        "nltk.download('omw-1.4')\n",
        "\n",
        "# Initialize lemmatizer and stopwords\n",
        "lemmatizer = WordNetLemmatizer()\n",
        "all_stopwords = stopwords.words('english')\n",
        "\n",
        "# Process text\n",
        "corpus = []\n",
        "length = len(dataset['text'])\n",
        "for i in range(length):\n",
        "    review = re.sub('[^a-zA-Z\\']', ' ', dataset['text'][i])  # Keep apostrophes\n",
        "    review = review.lower()\n",
        "    review = review.split()\n",
        "    review = [lemmatizer.lemmatize(word) for word in review if not word in set(all_stopwords)]\n",
        "    review = ' '.join(review)\n",
        "    corpus.append(review)\n",
        "\n",
        "# print(corpus[:10])  # Print the first 10 processed texts for verification\n",
        "# print(all_stopwords)\n"
      ]
    },
    {
      "cell_type": "code",
      "execution_count": 6,
      "metadata": {
        "id": "gcBSTlSMC7Q1"
      },
      "outputs": [],
      "source": [
        "from sklearn.feature_extraction.text import TfidfVectorizer\n",
        "vectorizer = TfidfVectorizer(ngram_range=(1, 2))\n",
        "X = vectorizer.fit_transform(corpus)\n",
        "y = dataset['label']"
      ]
    },
    {
      "cell_type": "code",
      "execution_count": 7,
      "metadata": {
        "id": "j9bSUjL0DCml"
      },
      "outputs": [],
      "source": [
        "from sklearn.model_selection import train_test_split\n",
        "\n",
        "X_train, X_test, y_train, y_test = train_test_split(X, y, test_size=0.2, random_state=0)"
      ]
    },
    {
      "cell_type": "code",
      "execution_count": 9,
      "metadata": {
        "colab": {
          "base_uri": "https://localhost:8080/",
          "height": 80
        },
        "id": "Xx9VTEBSDKdw",
        "outputId": "e1244426-d6d3-4ea7-c71f-540a9bb82c0d"
      },
      "outputs": [
        {
          "data": {
            "text/html": [
              "<style>#sk-container-id-2 {color: black;background-color: white;}#sk-container-id-2 pre{padding: 0;}#sk-container-id-2 div.sk-toggleable {background-color: white;}#sk-container-id-2 label.sk-toggleable__label {cursor: pointer;display: block;width: 100%;margin-bottom: 0;padding: 0.3em;box-sizing: border-box;text-align: center;}#sk-container-id-2 label.sk-toggleable__label-arrow:before {content: \"▸\";float: left;margin-right: 0.25em;color: #696969;}#sk-container-id-2 label.sk-toggleable__label-arrow:hover:before {color: black;}#sk-container-id-2 div.sk-estimator:hover label.sk-toggleable__label-arrow:before {color: black;}#sk-container-id-2 div.sk-toggleable__content {max-height: 0;max-width: 0;overflow: hidden;text-align: left;background-color: #f0f8ff;}#sk-container-id-2 div.sk-toggleable__content pre {margin: 0.2em;color: black;border-radius: 0.25em;background-color: #f0f8ff;}#sk-container-id-2 input.sk-toggleable__control:checked~div.sk-toggleable__content {max-height: 200px;max-width: 100%;overflow: auto;}#sk-container-id-2 input.sk-toggleable__control:checked~label.sk-toggleable__label-arrow:before {content: \"▾\";}#sk-container-id-2 div.sk-estimator input.sk-toggleable__control:checked~label.sk-toggleable__label {background-color: #d4ebff;}#sk-container-id-2 div.sk-label input.sk-toggleable__control:checked~label.sk-toggleable__label {background-color: #d4ebff;}#sk-container-id-2 input.sk-hidden--visually {border: 0;clip: rect(1px 1px 1px 1px);clip: rect(1px, 1px, 1px, 1px);height: 1px;margin: -1px;overflow: hidden;padding: 0;position: absolute;width: 1px;}#sk-container-id-2 div.sk-estimator {font-family: monospace;background-color: #f0f8ff;border: 1px dotted black;border-radius: 0.25em;box-sizing: border-box;margin-bottom: 0.5em;}#sk-container-id-2 div.sk-estimator:hover {background-color: #d4ebff;}#sk-container-id-2 div.sk-parallel-item::after {content: \"\";width: 100%;border-bottom: 1px solid gray;flex-grow: 1;}#sk-container-id-2 div.sk-label:hover label.sk-toggleable__label {background-color: #d4ebff;}#sk-container-id-2 div.sk-serial::before {content: \"\";position: absolute;border-left: 1px solid gray;box-sizing: border-box;top: 0;bottom: 0;left: 50%;z-index: 0;}#sk-container-id-2 div.sk-serial {display: flex;flex-direction: column;align-items: center;background-color: white;padding-right: 0.2em;padding-left: 0.2em;position: relative;}#sk-container-id-2 div.sk-item {position: relative;z-index: 1;}#sk-container-id-2 div.sk-parallel {display: flex;align-items: stretch;justify-content: center;background-color: white;position: relative;}#sk-container-id-2 div.sk-item::before, #sk-container-id-2 div.sk-parallel-item::before {content: \"\";position: absolute;border-left: 1px solid gray;box-sizing: border-box;top: 0;bottom: 0;left: 50%;z-index: -1;}#sk-container-id-2 div.sk-parallel-item {display: flex;flex-direction: column;z-index: 1;position: relative;background-color: white;}#sk-container-id-2 div.sk-parallel-item:first-child::after {align-self: flex-end;width: 50%;}#sk-container-id-2 div.sk-parallel-item:last-child::after {align-self: flex-start;width: 50%;}#sk-container-id-2 div.sk-parallel-item:only-child::after {width: 0;}#sk-container-id-2 div.sk-dashed-wrapped {border: 1px dashed gray;margin: 0 0.4em 0.5em 0.4em;box-sizing: border-box;padding-bottom: 0.4em;background-color: white;}#sk-container-id-2 div.sk-label label {font-family: monospace;font-weight: bold;display: inline-block;line-height: 1.2em;}#sk-container-id-2 div.sk-label-container {text-align: center;}#sk-container-id-2 div.sk-container {/* jupyter's `normalize.less` sets `[hidden] { display: none; }` but bootstrap.min.css set `[hidden] { display: none !important; }` so we also need the `!important` here to be able to override the default hidden behavior on the sphinx rendered scikit-learn.org. See: https://github.com/scikit-learn/scikit-learn/issues/21755 */display: inline-block !important;position: relative;}#sk-container-id-2 div.sk-text-repr-fallback {display: none;}</style><div id=\"sk-container-id-2\" class=\"sk-top-container\"><div class=\"sk-text-repr-fallback\"><pre>RandomForestClassifier(bootstrap=False, max_features=&#x27;log2&#x27;, n_estimators=50)</pre><b>In a Jupyter environment, please rerun this cell to show the HTML representation or trust the notebook. <br />On GitHub, the HTML representation is unable to render, please try loading this page with nbviewer.org.</b></div><div class=\"sk-container\" hidden><div class=\"sk-item\"><div class=\"sk-estimator sk-toggleable\"><input class=\"sk-toggleable__control sk-hidden--visually\" id=\"sk-estimator-id-2\" type=\"checkbox\" checked><label for=\"sk-estimator-id-2\" class=\"sk-toggleable__label sk-toggleable__label-arrow\">RandomForestClassifier</label><div class=\"sk-toggleable__content\"><pre>RandomForestClassifier(bootstrap=False, max_features=&#x27;log2&#x27;, n_estimators=50)</pre></div></div></div></div></div>"
            ],
            "text/plain": [
              "RandomForestClassifier(bootstrap=False, max_features='log2', n_estimators=50)"
            ]
          },
          "execution_count": 9,
          "metadata": {},
          "output_type": "execute_result"
        }
      ],
      "source": [
        "from sklearn.ensemble import RandomForestClassifier\n",
        "classifier = RandomForestClassifier(bootstrap = False, criterion = 'gini', max_depth = None, max_features =  'log2', min_samples_leaf = 1, min_samples_split = 2, n_estimators = 50)\n",
        "classifier.fit(X_train, y_train)\n",
        "\n"
      ]
    },
    {
      "cell_type": "code",
      "execution_count": 10,
      "metadata": {
        "colab": {
          "base_uri": "https://localhost:8080/"
        },
        "id": "sjka6Q2fDM_Z",
        "outputId": "2635e526-beff-42c8-e400-194ab2a076af"
      },
      "outputs": [
        {
          "name": "stdout",
          "output_type": "stream",
          "text": [
            "[[ 8  0]\n",
            " [ 0 12]]\n"
          ]
        },
        {
          "data": {
            "text/plain": [
              "1.0"
            ]
          },
          "execution_count": 10,
          "metadata": {},
          "output_type": "execute_result"
        }
      ],
      "source": [
        "from sklearn.metrics import confusion_matrix, accuracy_score\n",
        "\n",
        "y_pred = classifier.predict(X_test)\n",
        "cm = confusion_matrix(y_test, y_pred)\n",
        "print(cm)\n",
        "accuracy_score(y_test, y_pred)"
      ]
    },
    {
      "cell_type": "code",
      "execution_count": 11,
      "metadata": {
        "colab": {
          "base_uri": "https://localhost:8080/"
        },
        "id": "0S-8GhjBDO-Z",
        "outputId": "5bf67d93-d8dc-4474-fe77-3abb0cb96cbe"
      },
      "outputs": [
        {
          "name": "stdout",
          "output_type": "stream",
          "text": [
            "Cross-validation accuracy scores:\n",
            "[1. 1. 1. 1. 1. 1. 1. 1. 1. 1.]\n",
            "Mean accuracy: 1.0000\n",
            "Standard deviation: 0.0000\n"
          ]
        }
      ],
      "source": [
        "from sklearn.model_selection import cross_val_score, StratifiedKFold\n",
        "from sklearn.ensemble import RandomForestClassifier\n",
        "from sklearn.metrics import accuracy_score, classification_report\n",
        "import numpy as np\n",
        "\n",
        "# Assuming X and y are your features and target labels\n",
        "# Replace X and y with your actual data\n",
        "\n",
        "# Initialize the classifier\n",
        "classifier = RandomForestClassifier()\n",
        "\n",
        "# Initialize StratifiedKFold with k=5\n",
        "cv = StratifiedKFold(n_splits=10, shuffle=True)\n",
        "\n",
        "# Perform k-fold cross-validation\n",
        "accuracy_scores = cross_val_score(classifier, X, y, cv=cv, scoring='accuracy', n_jobs=-1)\n",
        "\n",
        "# Print the accuracy scores for each fold\n",
        "print(\"Cross-validation accuracy scores:\")\n",
        "print(accuracy_scores)\n",
        "\n",
        "# Print the mean and standard deviation of the accuracy scores\n",
        "print(f\"Mean accuracy: {np.mean(accuracy_scores):.4f}\")\n",
        "print(f\"Standard deviation: {np.std(accuracy_scores):.4f}\")\n"
      ]
    },
    {
      "cell_type": "code",
      "execution_count": 12,
      "metadata": {
        "colab": {
          "base_uri": "https://localhost:8080/"
        },
        "id": "qZXeID3kDWhX",
        "outputId": "bbaad250-6928-4397-bf54-aae14f502dd8"
      },
      "outputs": [
        {
          "name": "stdout",
          "output_type": "stream",
          "text": [
            "Text: 'Invoice #12345 issued on 15-09-2023 for $5000.' -> Predicted class: Invoice\n",
            "Text: 'Payment due for invoice #789 on 01-11-2023. Total amount: $1500.' -> Predicted class: Invoice\n",
            "Text: 'Kindly remit payment for invoice #4567, amounting to $2750, by the end of this month.' -> Predicted class: Invoice\n",
            "Text: 'Invoice #8907 for the purchase of office supplies, total cost: $320.' -> Predicted class: Invoice\n",
            "Text: 'Please find attached invoice #1023 for $450, due on 10-12-2023.' -> Predicted class: Invoice\n",
            "Text: 'Invoice issued on 20-09-2023 for the service charge of $200.' -> Predicted class: Invoice\n",
            "Text: 'Invoice #3421 – Total: $1,200, Payment due by 05-11-2023.' -> Predicted class: Invoice\n",
            "Text: 'Payment for invoice #9876 received on 29-09-2023 for $3,750.' -> Predicted class: Invoice\n",
            "Text: 'Final notice for invoice #1452, total due: $875, please pay immediately.' -> Predicted class: Invoice\n",
            "Text: 'Invoice #5678 from Pizza Hut for catering services, amount: $900.' -> Predicted class: Invoice\n",
            "Text: 'The service contract begins on 01-10-2023 and runs for 12 months.' -> Predicted class: Contract\n",
            "Text: 'Contract #2345 signed on 15-09-2023, total value: $20,000.' -> Predicted class: Contract\n",
            "Text: 'This agreement is for a 6-month term, starting from 01-11-2023.' -> Predicted class: Contract\n",
            "Text: 'Please review the attached contract for the supply of goods.' -> Predicted class: Contract\n",
            "Text: 'This contract is non-cancellable after the first 3 months.' -> Predicted class: Contract\n",
            "Text: 'The contractor will be paid $50 per hour as per the agreement.' -> Predicted class: Contract\n",
            "Text: 'This contract requires delivery of services by 01-12-2023.' -> Predicted class: Contract\n",
            "Text: 'The buyer agrees to purchase services as detailed in Schedule 1 of this contract.' -> Predicted class: Contract\n",
            "Text: 'Contract #6789 – Signed on 10-10-2023, total cost: $5000.' -> Predicted class: Contract\n",
            "Text: 'The contract is subject to force majeure and other conditions as listed.' -> Predicted class: Contract\n"
          ]
        }
      ],
      "source": [
        "# Test texts for invoices and contracts\n",
        "test_texts = [\n",
        "    # Invoice examples\n",
        "    \"Invoice #12345 issued on 15-09-2023 for $5000.\",\n",
        "    \"Payment due for invoice #789 on 01-11-2023. Total amount: $1500.\",\n",
        "    \"Kindly remit payment for invoice #4567, amounting to $2750, by the end of this month.\",\n",
        "    \"Invoice #8907 for the purchase of office supplies, total cost: $320.\",\n",
        "    \"Please find attached invoice #1023 for $450, due on 10-12-2023.\",\n",
        "    \"Invoice issued on 20-09-2023 for the service charge of $200.\",\n",
        "    \"Invoice #3421 – Total: $1,200, Payment due by 05-11-2023.\",\n",
        "    \"Payment for invoice #9876 received on 29-09-2023 for $3,750.\",\n",
        "    \"Final notice for invoice #1452, total due: $875, please pay immediately.\",\n",
        "    \"Invoice #5678 from Pizza Hut for catering services, amount: $900.\",\n",
        "\n",
        "    # Contract examples\n",
        "    \"The service contract begins on 01-10-2023 and runs for 12 months.\",\n",
        "    \"Contract #2345 signed on 15-09-2023, total value: $20,000.\",\n",
        "    \"This agreement is for a 6-month term, starting from 01-11-2023.\",\n",
        "    \"Please review the attached contract for the supply of goods.\",\n",
        "    \"This contract is non-cancellable after the first 3 months.\",\n",
        "    \"The contractor will be paid $50 per hour as per the agreement.\",\n",
        "    \"This contract requires delivery of services by 01-12-2023.\",\n",
        "    \"The buyer agrees to purchase services as detailed in Schedule 1 of this contract.\",\n",
        "    \"Contract #6789 – Signed on 10-10-2023, total cost: $5000.\",\n",
        "    \"The contract is subject to force majeure and other conditions as listed.\"\n",
        "]\n",
        "\n",
        "# Preprocess function\n",
        "def preprocess_text(text):\n",
        "    review = re.sub('[^a-zA-Z\\']', ' ', text)  # Keep apostrophes\n",
        "    review = review.lower()\n",
        "    review = review.split()\n",
        "    review = [lemmatizer.lemmatize(word) for word in review if not word in set(all_stopwords)]\n",
        "    review = ' '.join(review)\n",
        "    return review\n",
        "\n",
        "# Predict for each text\n",
        "for text in test_texts:\n",
        "    processed_text = preprocess_text(text)\n",
        "    X_custom = vectorizer.transform([processed_text])\n",
        "\n",
        "    # Check if classifier is fitted, if not, fit it\n",
        "    if not hasattr(classifier, 'estimators_'):\n",
        "        classifier.fit(X_train, y_train)\n",
        "\n",
        "    # Predict class label using the trained classifier\n",
        "    predicted_class = classifier.predict(X_custom)[0]\n",
        "\n",
        "    # Print the predicted class\n",
        "    print(f\"Text: '{text}' -> Predicted class: {predicted_class}\")\n"
      ]
    },
    {
      "cell_type": "markdown",
      "metadata": {
        "id": "UMNfRIw4EfpW"
      },
      "source": [
        "# Extracting image(invoice or contract) text\n"
      ]
    },
    {
      "cell_type": "code",
      "execution_count": null,
      "metadata": {
        "id": "JipLQTKHE2li"
      },
      "outputs": [],
      "source": [
        "import re\n",
        "import pytesseract\n",
        "import cv2\n",
        "from PIL import Image\n",
        "\n",
        "# Load the image using OpenCV\n",
        "img_path = '/content/Contract.png'  # Update with your image path\n",
        "img = cv2.imread(img_path)\n",
        "\n",
        "# Preprocess the image (convert to grayscale and apply thresholding)\n",
        "gray = cv2.cvtColor(img, cv2.COLOR_BGR2GRAY)\n",
        "_, thresh = cv2.threshold(gray, 150, 255, cv2.THRESH_BINARY)\n",
        "\n",
        "# Extract text using Tesseract\n",
        "extracted_text = pytesseract.image_to_string(thresh)\n",
        "\n",
        "# print(extracted_text)"
      ]
    },
    {
      "cell_type": "code",
      "execution_count": null,
      "metadata": {
        "colab": {
          "base_uri": "https://localhost:8080/"
        },
        "id": "ZCP5kHXdFMtH",
        "outputId": "2686c084-49e4-4e15-f5cc-143639082ded"
      },
      "outputs": [
        {
          "name": "stdout",
          "output_type": "stream",
          "text": [
            "Text: 'The contract is subject to force majeure and other conditions as listed.' -> Predicted class: Contract\n"
          ]
        }
      ],
      "source": [
        "processed_text = preprocess_text(extracted_text)\n",
        "X_custom = vectorizer.transform([processed_text])\n",
        "\n",
        "# Check if classifier is fitted, if not, fit it\n",
        "if not hasattr(classifier, 'estimators_'):\n",
        "    classifier.fit(X_train, y_train)\n",
        "\n",
        "# Predict class label using the trained classifier\n",
        "predicted_class = classifier.predict(X_custom)[0]\n",
        "\n",
        "# Print the predicted class\n",
        "print(f\"Text: '{text}' -> Predicted class: {predicted_class}\")"
      ]
    },
    {
      "cell_type": "code",
      "execution_count": 13,
      "metadata": {
        "id": "ciaNWhGoF1Yi"
      },
      "outputs": [
        {
          "data": {
            "text/plain": [
              "['vectorizer.pkl']"
            ]
          },
          "execution_count": 13,
          "metadata": {},
          "output_type": "execute_result"
        }
      ],
      "source": [
        "import joblib\n",
        "joblib.dump(classifier, 'model.pkl')\n",
        "joblib.dump(vectorizer, 'vectorizer.pkl')"
      ]
    },
    {
      "cell_type": "code",
      "execution_count": null,
      "metadata": {},
      "outputs": [],
      "source": []
    }
  ],
  "metadata": {
    "colab": {
      "provenance": []
    },
    "kernelspec": {
      "display_name": "base",
      "language": "python",
      "name": "python3"
    },
    "language_info": {
      "codemirror_mode": {
        "name": "ipython",
        "version": 3
      },
      "file_extension": ".py",
      "mimetype": "text/x-python",
      "name": "python",
      "nbconvert_exporter": "python",
      "pygments_lexer": "ipython3",
      "version": "3.11.7"
    }
  },
  "nbformat": 4,
  "nbformat_minor": 0
}
